{
 "cells": [
  {
   "cell_type": "code",
   "execution_count": 61,
   "metadata": {},
   "outputs": [],
   "source": [
    "from utils import sort_teams"
   ]
  },
  {
   "cell_type": "code",
   "execution_count": 64,
   "metadata": {},
   "outputs": [],
   "source": [
    "players_sample = {\n",
    "    'Kaden': 9,\n",
    "    'Avery': 5,\n",
    "    'Peyton': 8,\n",
    "    'Logan': 7,\n",
    "    'Brooklyn': 6,\n",
    "    'Jackson': 4,\n",
    "    'Madison': 8,\n",
    "    'Landon': 10,\n",
    "    'Evelyn': 5,\n",
    "    'Oliver': 6,\n",
    "    'Emma': 9,\n",
    "    'Liam': 7,\n",
    "    'Harper': 8,\n",
    "    'Lucas': 4,\n",
    "    'Sophia': 7\n",
    "}"
   ]
  },
  {
   "cell_type": "code",
   "execution_count": 65,
   "metadata": {},
   "outputs": [
    {
     "data": {
      "text/plain": [
       "[['Oliver', 'Madison', 'Emma'],\n",
       " ['Sophia', 'Landon', 'Brooklyn'],\n",
       " ['Logan', 'Kaden', 'Peyton']]"
      ]
     },
     "execution_count": 65,
     "metadata": {},
     "output_type": "execute_result"
    }
   ],
   "source": [
    "sort_teams(players_sample, 3, 3)"
   ]
  }
 ],
 "metadata": {
  "kernelspec": {
   "display_name": "Python 3",
   "language": "python",
   "name": "python3"
  },
  "language_info": {
   "codemirror_mode": {
    "name": "ipython",
    "version": 3
   },
   "file_extension": ".py",
   "mimetype": "text/x-python",
   "name": "python",
   "nbconvert_exporter": "python",
   "pygments_lexer": "ipython3",
   "version": "3.11.3"
  },
  "orig_nbformat": 4
 },
 "nbformat": 4,
 "nbformat_minor": 2
}
